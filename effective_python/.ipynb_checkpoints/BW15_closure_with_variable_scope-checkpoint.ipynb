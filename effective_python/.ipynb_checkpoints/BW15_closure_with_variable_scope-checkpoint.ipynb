{
 "cells": [
  {
   "cell_type": "markdown",
   "metadata": {},
   "source": [
    "# BETTER WAY 15. 클로저가 변수 스코프와 상호 작용 하는 방법"
   ]
  },
  {
   "cell_type": "code",
   "execution_count": 1,
   "metadata": {
    "collapsed": false
   },
   "outputs": [
    {
     "name": "stdout",
     "output_type": "stream",
     "text": [
      "[8, 3, 1, 2, 5, 4, 7, 6]\n",
      "[1, 2, 3, 4, 5, 6, 7, 8]\n",
      "[2, 3, 5, 7, 1, 4, 6, 8]\n",
      "\n",
      "Found: False\n",
      "[2, 3, 5, 7, 1, 4, 6, 8]\n",
      "\n",
      "True\n",
      "\n",
      "Found: True\n",
      "[2, 3, 5, 7, 1, 4, 6, 8]\n"
     ]
    }
   ],
   "source": [
    "class Sorter(object):\n",
    "    def __init__(self, group):\n",
    "        self.group = group\n",
    "        self.found = False\n",
    "        \n",
    "    def __call__(self, x):\n",
    "        if x in self.group:\n",
    "            self.found = True\n",
    "            return (0, x)\n",
    "        return (1, x)\n",
    "\n",
    "def sort_priority(values, group):\n",
    "    def helper(x):\n",
    "        if x in group:\n",
    "            return (0, x)\n",
    "        return (1, x)\n",
    "    values.sort(key=helper)\n",
    "\n",
    "def sort_priority2(numbers, group):\n",
    "    found = False\n",
    "    def helper(x):\n",
    "        if x in group:\n",
    "            found = True\n",
    "            return (0, x)\n",
    "        return (1, x)\n",
    "    numbers.sort(key=helper)\n",
    "    return found\n",
    "\n",
    "def sort_priority3(numbers, group):\n",
    "    found = [False]\n",
    "    def helper(x):\n",
    "        if x in group:\n",
    "            found[0] = True\n",
    "            return (0, x)\n",
    "        return (1, x)\n",
    "    numbers.sort(key=helper)\n",
    "    return found[0]\n",
    "\n",
    "def just_sort(values):\n",
    "    values.sort()\n",
    "\n",
    "numbers = [8, 3, 1, 2, 5, 4, 7, 6]\n",
    "group = {2, 3, 5, 7}\n",
    "print(numbers)\n",
    "\n",
    "just_sort(numbers)\n",
    "print(numbers)\n",
    "\n",
    "sort_priority(numbers, group)\n",
    "print(numbers)\n",
    "\n",
    "found = sort_priority2(numbers, group)\n",
    "print \"\\nFound:\", found\n",
    "print(numbers)\n",
    "\n",
    "sorter = Sorter(group)\n",
    "numbers.sort(key=sorter)\n",
    "print \"\\n\", sorter.found\n",
    "\n",
    "numbers = [8, 3, 1, 2, 5, 4, 7, 6]\n",
    "found = sort_priority3(numbers, group)\n",
    "print \"\\nFound:\", found\n",
    "print(numbers)"
   ]
  }
 ],
 "metadata": {
  "kernelspec": {
   "display_name": "Python 2",
   "language": "python",
   "name": "python2"
  },
  "language_info": {
   "codemirror_mode": {
    "name": "ipython",
    "version": 2
   },
   "file_extension": ".py",
   "mimetype": "text/x-python",
   "name": "python",
   "nbconvert_exporter": "python",
   "pygments_lexer": "ipython2",
   "version": "2.7.12"
  }
 },
 "nbformat": 4,
 "nbformat_minor": 2
}
