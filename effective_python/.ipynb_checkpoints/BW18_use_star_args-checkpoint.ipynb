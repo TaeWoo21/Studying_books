{
 "cells": [
  {
   "cell_type": "markdown",
   "metadata": {},
   "source": [
    "# BETTER WAY 18. 가변위치 인수로 깔끔하게 보이게 하자\n",
    "1. 단순\n",
    "2. 가변 위치 인수 사용\n",
    "3. 가변 위치 인수 사용의 주의점"
   ]
  },
  {
   "cell_type": "code",
   "execution_count": 6,
   "metadata": {
    "collapsed": false
   },
   "outputs": [
    {
     "name": "stdout",
     "output_type": "stream",
     "text": [
      "My numbers are: 1, 2\n",
      "Hi there\n"
     ]
    }
   ],
   "source": [
    "def log(message, values):\n",
    "    if not values:\n",
    "        print(message)\n",
    "    else:\n",
    "        values_str = \", \".join(str(x) for x in values)\n",
    "        print(\"%s: %s\" % (message, values_str))\n",
    "\n",
    "log(\"My numbers are\", [1, 2])\n",
    "log(\"Hi there\", [])"
   ]
  },
  {
   "cell_type": "markdown",
   "metadata": {},
   "source": [
    "### ▶︎ 가변 위치 인수 사용한 코드"
   ]
  },
  {
   "cell_type": "code",
   "execution_count": 38,
   "metadata": {
    "collapsed": false
   },
   "outputs": [
    {
     "name": "stdout",
     "output_type": "stream",
     "text": [
      "My numbers are: 1, 2\n",
      "Hi there\n"
     ]
    }
   ],
   "source": [
    "def log(message, *values):\n",
    "    if not values:\n",
    "        print(message)\n",
    "    else:\n",
    "        values_str = \", \".join(str(x) for x in values)\n",
    "        print(\"%s: %s\" % (message, values_str))\n",
    "\n",
    "log(\"My numbers are\", 1, 2)\n",
    "log(\"Hi there\")"
   ]
  },
  {
   "cell_type": "code",
   "execution_count": 37,
   "metadata": {
    "collapsed": false
   },
   "outputs": [
    {
     "name": "stdout",
     "output_type": "stream",
     "text": [
      "(0, 1, 2, 3, 4, 5, 6, 7, 8, 9)\n"
     ]
    }
   ],
   "source": [
    "def my_generator():\n",
    "    for i in range(10):\n",
    "        yield i\n",
    "\n",
    "def my_func(*args):\n",
    "    print(args)\n",
    "    \n",
    "it = my_generator()\n",
    "my_func(*it)"
   ]
  },
  {
   "cell_type": "markdown",
   "metadata": {},
   "source": [
    "### ▶︎ 가변 위치 인수 사용한 코드의 문제점\n",
    "- 인수 리스트 앞쪽에 새로운 인수를 추가할 경우\n",
    "- 따라서 키워드 전용 이수로 명료성을 강조해야 한다."
   ]
  },
  {
   "cell_type": "code",
   "execution_count": 48,
   "metadata": {
    "collapsed": false
   },
   "outputs": [
    {
     "name": "stdout",
     "output_type": "stream",
     "text": [
      "1: Favorites: 7, 33\n",
      "Favorite numbers: 7: 33\n"
     ]
    }
   ],
   "source": [
    "def log(sequence, message, *values):\n",
    "    if not values:\n",
    "        print(\"%s: %s\" % (sequence, message))\n",
    "    else:\n",
    "        values_str = \", \".join(str(x) for x in values)\n",
    "        print(\"%s: %s: %s\" % (sequence, message, values_str))\n",
    "        \n",
    "log(1, \"Favorites\", 7, 33)\n",
    "log(\"Favorite numbers\", 7, 33)"
   ]
  }
 ],
 "metadata": {
  "kernelspec": {
   "display_name": "Python 2",
   "language": "python",
   "name": "python2"
  },
  "language_info": {
   "codemirror_mode": {
    "name": "ipython",
    "version": 2
   },
   "file_extension": ".py",
   "mimetype": "text/x-python",
   "name": "python",
   "nbconvert_exporter": "python",
   "pygments_lexer": "ipython2",
   "version": "2.7.12"
  }
 },
 "nbformat": 4,
 "nbformat_minor": 2
}
