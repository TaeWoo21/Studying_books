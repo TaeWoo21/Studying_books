{
 "cells": [
  {
   "cell_type": "markdown",
   "metadata": {},
   "source": [
    "# BETTER WAY 20. 동적 기본 인수를 지정하려면 None과 docstring을 사용하자\n",
    "\n",
    "- 기본 인수는 모듈 로드 시점에 함수 정의 과정에서 딱 한 번만 평가된다."
   ]
  },
  {
   "cell_type": "markdown",
   "metadata": {},
   "source": [
    "### ▶︎ 모듈 로드 경우"
   ]
  },
  {
   "cell_type": "code",
   "execution_count": 9,
   "metadata": {
    "collapsed": false
   },
   "outputs": [
    {
     "name": "stdout",
     "output_type": "stream",
     "text": [
      "2018-08-01 12:53:29.291091: Hi there!\n",
      "2018-08-01 12:53:29.291091: Hi there!\n"
     ]
    }
   ],
   "source": [
    "import datetime\n",
    "import time\n",
    "\n",
    "def log(message, when=datetime.datetime.now()):\n",
    "    print(\"%s: %s\" % (when, message))\n",
    "    \n",
    "log(\"Hi there!\")\n",
    "time.sleep(0.1)\n",
    "log(\"Hi there!\")"
   ]
  },
  {
   "cell_type": "code",
   "execution_count": 10,
   "metadata": {
    "collapsed": false
   },
   "outputs": [
    {
     "name": "stdout",
     "output_type": "stream",
     "text": [
      "2018-08-01 12:57:21.293724: Hi there!\n",
      "2018-08-01 12:57:21.397599: Hi there!\n"
     ]
    }
   ],
   "source": [
    "def log(message):\n",
    "    print(\"%s: %s\" % (datetime.datetime.now(), message))\n",
    "    \n",
    "log(\"Hi there!\")\n",
    "time.sleep(0.1)\n",
    "log(\"Hi there!\")"
   ]
  },
  {
   "cell_type": "code",
   "execution_count": 13,
   "metadata": {
    "collapsed": false
   },
   "outputs": [
    {
     "name": "stdout",
     "output_type": "stream",
     "text": [
      "2018-08-01 13:01:13.628420: Hi there!\n",
      "2018-08-01 13:01:13.733310: Hi there!\n"
     ]
    }
   ],
   "source": [
    "def log(message, when=None):\n",
    "    \"\"\"Log a message with a timestamp.\n",
    "    \n",
    "    Args:\n",
    "        message: Message to print\n",
    "        when: datetime of when the message occurred.\n",
    "            Defaults to the present time.\n",
    "    \"\"\"\n",
    "    when = datetime.datetime.now() if when is None else when\n",
    "    print(\"%s: %s\" % (when, message))\n",
    "\n",
    "log(\"Hi there!\")\n",
    "time.sleep(0.1)\n",
    "log(\"Hi there!\")"
   ]
  },
  {
   "cell_type": "markdown",
   "metadata": {},
   "source": [
    "-----------------------------"
   ]
  },
  {
   "cell_type": "markdown",
   "metadata": {},
   "source": [
    "### ▶︎ dictionary나 list와 같은 동적 값을 인수로 지정하는 경우"
   ]
  },
  {
   "cell_type": "code",
   "execution_count": 15,
   "metadata": {
    "collapsed": false
   },
   "outputs": [
    {
     "name": "stdout",
     "output_type": "stream",
     "text": [
      "('Foo:', {'stuff': 5, 'meep': 1})\n",
      "('Bar:', {'stuff': 5, 'meep': 1})\n"
     ]
    }
   ],
   "source": [
    "import json\n",
    "def decode(data, default={}):\n",
    "    try:\n",
    "        return json.loads(data)\n",
    "    except ValueError:\n",
    "        return default\n",
    "\n",
    "foo = decode(\"bad data\")\n",
    "foo[\"stuff\"] = 5\n",
    "bar = decode(\"also bad\")\n",
    "bar[\"meep\"] = 1\n",
    "print(\"Foo:\", foo)\n",
    "print(\"Bar:\", bar)"
   ]
  },
  {
   "cell_type": "code",
   "execution_count": 29,
   "metadata": {
    "collapsed": false
   },
   "outputs": [
    {
     "name": "stdout",
     "output_type": "stream",
     "text": [
      "[1]\n"
     ]
    }
   ],
   "source": [
    "def test(default=[]):\n",
    "    return default\n",
    "\n",
    "a = test()\n",
    "b = test()\n",
    "a.append(1)\n",
    "print(b)"
   ]
  },
  {
   "cell_type": "code",
   "execution_count": 24,
   "metadata": {
    "collapsed": false
   },
   "outputs": [
    {
     "name": "stdout",
     "output_type": "stream",
     "text": [
      "{}\n",
      "{}\n",
      "Foo: {'stuff': 5}\n",
      "Bar: {'meep': 1}\n"
     ]
    }
   ],
   "source": [
    "from __future__ import print_function\n",
    "\n",
    "def decode(data, default=None):\n",
    "    \"\"\"Load JSON data from a string.\n",
    "    \n",
    "    Args:\n",
    "        data: JSON data to decode.\n",
    "        default: Value to return if decoding fails.\n",
    "            Defaults to an empty dictionary.\n",
    "    \"\"\"\n",
    "    if default is None:\n",
    "        default = {}\n",
    "    try:\n",
    "        return json.loads(data)\n",
    "    except ValueError:\n",
    "        return default\n",
    "\n",
    "foo = decode(\"bad data\")\n",
    "print(foo)\n",
    "bar = decode(\"also bad\")\n",
    "print(bar)\n",
    "foo[\"stuff\"] = 5\n",
    "bar[\"meep\"] = 1\n",
    "print(\"Foo:\", foo)\n",
    "print(\"Bar:\", bar)"
   ]
  },
  {
   "cell_type": "code",
   "execution_count": null,
   "metadata": {
    "collapsed": true
   },
   "outputs": [],
   "source": []
  }
 ],
 "metadata": {
  "kernelspec": {
   "display_name": "Python 2",
   "language": "python",
   "name": "python2"
  },
  "language_info": {
   "codemirror_mode": {
    "name": "ipython",
    "version": 2
   },
   "file_extension": ".py",
   "mimetype": "text/x-python",
   "name": "python",
   "nbconvert_exporter": "python",
   "pygments_lexer": "ipython2",
   "version": "2.7.12"
  }
 },
 "nbformat": 4,
 "nbformat_minor": 2
}
